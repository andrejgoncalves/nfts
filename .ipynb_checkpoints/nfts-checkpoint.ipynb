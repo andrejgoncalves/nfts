{
 "cells": [
  {
   "cell_type": "code",
   "execution_count": 85,
   "id": "3bcd4c2a",
   "metadata": {},
   "outputs": [],
   "source": [
    "import matplotlib.pyplot as plt\n",
    "import numpy as np\n",
    "import pandas as pd\n",
    "import seaborn as sns\n",
    "import warnings\n",
    "from pylab import rcParams\n",
    "from scipy.stats import f_oneway\n",
    "from scipy.stats import ttest_ind"
   ]
  },
  {
   "cell_type": "code",
   "execution_count": 196,
   "id": "c6acfde2",
   "metadata": {},
   "outputs": [],
   "source": [
    "solsea = pd.read_csv(\"solsea.csv\")"
   ]
  },
  {
   "cell_type": "code",
   "execution_count": 197,
   "id": "5bc31f2e",
   "metadata": {},
   "outputs": [],
   "source": [
    "opensea = pd.read_csv(\"opensea.csv\")"
   ]
  },
  {
   "cell_type": "code",
   "execution_count": 198,
   "id": "75e6f054",
   "metadata": {},
   "outputs": [],
   "source": [
    "solsea.drop('Unnamed: 0', axis=1, inplace=True)"
   ]
  },
  {
   "cell_type": "code",
   "execution_count": 200,
   "id": "d82657a9",
   "metadata": {},
   "outputs": [
    {
     "data": {
      "text/html": [
       "<div>\n",
       "<style scoped>\n",
       "    .dataframe tbody tr th:only-of-type {\n",
       "        vertical-align: middle;\n",
       "    }\n",
       "\n",
       "    .dataframe tbody tr th {\n",
       "        vertical-align: top;\n",
       "    }\n",
       "\n",
       "    .dataframe thead th {\n",
       "        text-align: right;\n",
       "    }\n",
       "</style>\n",
       "<table border=\"1\" class=\"dataframe\">\n",
       "  <thead>\n",
       "    <tr style=\"text-align: right;\">\n",
       "      <th></th>\n",
       "      <th>Title</th>\n",
       "      <th>30dVolume</th>\n",
       "      <th>30dSales</th>\n",
       "      <th>30dAvg Price</th>\n",
       "      <th>Floor Price</th>\n",
       "      <th>Items</th>\n",
       "      <th>Growth</th>\n",
       "    </tr>\n",
       "  </thead>\n",
       "  <tbody>\n",
       "    <tr>\n",
       "      <th>0</th>\n",
       "      <td>I'M AIKO</td>\n",
       "      <td>4411.81</td>\n",
       "      <td>1172</td>\n",
       "      <td>3.76</td>\n",
       "      <td>2.49</td>\n",
       "      <td>1087</td>\n",
       "      <td>1.510040</td>\n",
       "    </tr>\n",
       "    <tr>\n",
       "      <th>1</th>\n",
       "      <td>Dapper Apes</td>\n",
       "      <td>901.12</td>\n",
       "      <td>260</td>\n",
       "      <td>3.47</td>\n",
       "      <td>2.95</td>\n",
       "      <td>20</td>\n",
       "      <td>1.176271</td>\n",
       "    </tr>\n",
       "    <tr>\n",
       "      <th>2</th>\n",
       "      <td>OG Astro Babies</td>\n",
       "      <td>602.83</td>\n",
       "      <td>215</td>\n",
       "      <td>2.80</td>\n",
       "      <td>1.65</td>\n",
       "      <td>92</td>\n",
       "      <td>1.696970</td>\n",
       "    </tr>\n",
       "    <tr>\n",
       "      <th>3</th>\n",
       "      <td>Message Party</td>\n",
       "      <td>600.15</td>\n",
       "      <td>190</td>\n",
       "      <td>3.16</td>\n",
       "      <td>2.20</td>\n",
       "      <td>7</td>\n",
       "      <td>1.436364</td>\n",
       "    </tr>\n",
       "    <tr>\n",
       "      <th>4</th>\n",
       "      <td>Astro Baby Apes</td>\n",
       "      <td>587.06</td>\n",
       "      <td>411</td>\n",
       "      <td>1.43</td>\n",
       "      <td>0.70</td>\n",
       "      <td>178</td>\n",
       "      <td>2.042857</td>\n",
       "    </tr>\n",
       "  </tbody>\n",
       "</table>\n",
       "</div>"
      ],
      "text/plain": [
       "             Title  30dVolume  30dSales  30dAvg Price  Floor Price  Items  \\\n",
       "0         I'M AIKO    4411.81      1172          3.76         2.49   1087   \n",
       "1      Dapper Apes     901.12       260          3.47         2.95     20   \n",
       "2  OG Astro Babies     602.83       215          2.80         1.65     92   \n",
       "3    Message Party     600.15       190          3.16         2.20      7   \n",
       "4  Astro Baby Apes     587.06       411          1.43         0.70    178   \n",
       "\n",
       "     Growth  \n",
       "0  1.510040  \n",
       "1  1.176271  \n",
       "2  1.696970  \n",
       "3  1.436364  \n",
       "4  2.042857  "
      ]
     },
     "execution_count": 200,
     "metadata": {},
     "output_type": "execute_result"
    }
   ],
   "source": [
    "#solsea_sample = solsea.sample(15)\n",
    "solsea = solsea.dropna()\n",
    "solsea['Growth'] = solsea.apply(lambda row: row['30dAvg Price']  / row['Floor Price'] , axis=1)\n",
    "solsea.head()"
   ]
  },
  {
   "cell_type": "code",
   "execution_count": 201,
   "id": "5da44377",
   "metadata": {},
   "outputs": [
    {
     "data": {
      "text/html": [
       "<div>\n",
       "<style scoped>\n",
       "    .dataframe tbody tr th:only-of-type {\n",
       "        vertical-align: middle;\n",
       "    }\n",
       "\n",
       "    .dataframe tbody tr th {\n",
       "        vertical-align: top;\n",
       "    }\n",
       "\n",
       "    .dataframe thead th {\n",
       "        text-align: right;\n",
       "    }\n",
       "</style>\n",
       "<table border=\"1\" class=\"dataframe\">\n",
       "  <thead>\n",
       "    <tr style=\"text-align: right;\">\n",
       "      <th></th>\n",
       "      <th>Title</th>\n",
       "      <th>30dVolume</th>\n",
       "      <th>30dSales</th>\n",
       "      <th>30dAvg Price</th>\n",
       "      <th>Floor Price</th>\n",
       "      <th>Items</th>\n",
       "      <th>Growth</th>\n",
       "    </tr>\n",
       "  </thead>\n",
       "  <tbody>\n",
       "    <tr>\n",
       "      <th>0</th>\n",
       "      <td>Karafuru</td>\n",
       "      <td>35848.15</td>\n",
       "      <td>8784.0</td>\n",
       "      <td>4.08</td>\n",
       "      <td>2.30</td>\n",
       "      <td>5554.0</td>\n",
       "      <td>1.773913</td>\n",
       "    </tr>\n",
       "    <tr>\n",
       "      <th>1</th>\n",
       "      <td>Azuki</td>\n",
       "      <td>34218.46</td>\n",
       "      <td>2476.0</td>\n",
       "      <td>13.82</td>\n",
       "      <td>9.99</td>\n",
       "      <td>10000.0</td>\n",
       "      <td>1.383383</td>\n",
       "    </tr>\n",
       "    <tr>\n",
       "      <th>2</th>\n",
       "      <td>Bored Ape</td>\n",
       "      <td>31983.18</td>\n",
       "      <td>299.0</td>\n",
       "      <td>106.97</td>\n",
       "      <td>82.00</td>\n",
       "      <td>10000.0</td>\n",
       "      <td>1.304512</td>\n",
       "    </tr>\n",
       "    <tr>\n",
       "      <th>4</th>\n",
       "      <td>Invisible Friends</td>\n",
       "      <td>29476.04</td>\n",
       "      <td>3334.0</td>\n",
       "      <td>8.84</td>\n",
       "      <td>8.30</td>\n",
       "      <td>5000.0</td>\n",
       "      <td>1.065060</td>\n",
       "    </tr>\n",
       "    <tr>\n",
       "      <th>5</th>\n",
       "      <td>Clonex</td>\n",
       "      <td>28571.53</td>\n",
       "      <td>1514.0</td>\n",
       "      <td>18.87</td>\n",
       "      <td>12.00</td>\n",
       "      <td>18961.0</td>\n",
       "      <td>1.572500</td>\n",
       "    </tr>\n",
       "  </tbody>\n",
       "</table>\n",
       "</div>"
      ],
      "text/plain": [
       "               Title  30dVolume  30dSales  30dAvg Price  Floor Price    Items  \\\n",
       "0           Karafuru   35848.15    8784.0          4.08         2.30   5554.0   \n",
       "1              Azuki   34218.46    2476.0         13.82         9.99  10000.0   \n",
       "2          Bored Ape   31983.18     299.0        106.97        82.00  10000.0   \n",
       "4  Invisible Friends   29476.04    3334.0          8.84         8.30   5000.0   \n",
       "5             Clonex   28571.53    1514.0         18.87        12.00  18961.0   \n",
       "\n",
       "     Growth  \n",
       "0  1.773913  \n",
       "1  1.383383  \n",
       "2  1.304512  \n",
       "4  1.065060  \n",
       "5  1.572500  "
      ]
     },
     "execution_count": 201,
     "metadata": {},
     "output_type": "execute_result"
    }
   ],
   "source": [
    "#opensea_sample = opensea.sample(15)\n",
    "opensea = opensea.dropna()\n",
    "opensea['Growth'] = opensea.apply(lambda row: row['30dAvg Price']  / row['Floor Price'] , axis=1)\n",
    "opensea.head()"
   ]
  },
  {
   "cell_type": "code",
   "execution_count": 246,
   "id": "e6b9ac08",
   "metadata": {},
   "outputs": [
    {
     "name": "stdout",
     "output_type": "stream",
     "text": [
      "   Variable     N      Mean        SD        SE  95% Conf.  Interval\n",
      "0    Solsea  15.0  2.425570  2.320568  0.599168   1.140482  3.710658\n",
      "1   Opensea  15.0  1.638040  0.989948  0.255604   1.089825  2.186255\n",
      "2  combined  30.0  2.031805  1.798102  0.328287   1.360382  2.703227\n"
     ]
    }
   ],
   "source": [
    "#https://www.pythonfordatascience.org/independent-samples-t-test-python/\n",
    "\n",
    "import researchpy as rp\n",
    "\n",
    "summary, results = rp.ttest(group1= solsea['Growth'].sample(15), group1_name= \"Solsea\",\n",
    "                         group2= opensea['Growth'].sample(15), group2_name= \"Opensea\")\n",
    "print(summary)"
   ]
  },
  {
   "cell_type": "raw",
   "id": "42fcdc2d",
   "metadata": {},
   "source": [
    "H0 - growth in SOL collections less than or equal ETH ; H1 - growth in SOL collections greater than ETH"
   ]
  },
  {
   "cell_type": "code",
   "execution_count": 248,
   "id": "0e09b8c7",
   "metadata": {},
   "outputs": [
    {
     "name": "stdout",
     "output_type": "stream",
     "text": [
      "Statistics=0.694, p=0.247\n",
      "fail to reject H0\n"
     ]
    }
   ],
   "source": [
    "sample_size = 15\n",
    "solsea_sampled = np.random.choice(solsea['Growth'], sample_size)\n",
    "opensea_sampled = np.random.choice(opensea['Growth'], sample_size)\n",
    "\n",
    "def compare_2_groups(solsea, opensea, alpha, sample_size):\n",
    "    stat, p = ttest_ind(solsea, opensea, alternative = \"greater\")\n",
    "    print('Statistics=%.3f, p=%.3f' % (stat, p))\n",
    "    if p > alpha:\n",
    "        print('fail to reject H0')\n",
    "    else:\n",
    "        print('reject H0')\n",
    "\n",
    "compare_2_groups(solsea_sampled, opensea_sampled, 0.05, sample_size)"
   ]
  },
  {
   "cell_type": "code",
   "execution_count": null,
   "id": "8aabaa08",
   "metadata": {},
   "outputs": [],
   "source": []
  }
 ],
 "metadata": {
  "kernelspec": {
   "display_name": "Python 3",
   "language": "python",
   "name": "python3"
  },
  "language_info": {
   "codemirror_mode": {
    "name": "ipython",
    "version": 3
   },
   "file_extension": ".py",
   "mimetype": "text/x-python",
   "name": "python",
   "nbconvert_exporter": "python",
   "pygments_lexer": "ipython3",
   "version": "3.8.8"
  }
 },
 "nbformat": 4,
 "nbformat_minor": 5
}
