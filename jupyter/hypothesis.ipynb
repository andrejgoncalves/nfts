{
 "cells": [
  {
   "cell_type": "code",
   "execution_count": 1,
   "id": "3bcd4c2a",
   "metadata": {},
   "outputs": [],
   "source": [
    "import matplotlib.pyplot as plt\n",
    "import numpy as np\n",
    "import pandas as pd"
   ]
  },
  {
   "cell_type": "code",
   "execution_count": 5,
   "id": "5bc31f2e",
   "metadata": {},
   "outputs": [],
   "source": [
    "opensea = pd.read_csv(\"/Users/jungle/Documents/GitHub/nfts/csv/opensea.csv\")"
   ]
  },
  {
   "cell_type": "code",
   "execution_count": 4,
   "id": "c6acfde2",
   "metadata": {},
   "outputs": [],
   "source": [
    "solsea = pd.read_csv(\"/Users/jungle/Documents/GitHub/nfts/csv/solsea.csv\")"
   ]
  },
  {
   "cell_type": "code",
   "execution_count": 6,
   "id": "75e6f054",
   "metadata": {},
   "outputs": [],
   "source": [
    "solsea.drop('Unnamed: 0', axis=1, inplace=True)"
   ]
  },
  {
   "cell_type": "code",
   "execution_count": 7,
   "id": "d82657a9",
   "metadata": {},
   "outputs": [
    {
     "data": {
      "text/html": [
       "<div>\n",
       "<style scoped>\n",
       "    .dataframe tbody tr th:only-of-type {\n",
       "        vertical-align: middle;\n",
       "    }\n",
       "\n",
       "    .dataframe tbody tr th {\n",
       "        vertical-align: top;\n",
       "    }\n",
       "\n",
       "    .dataframe thead th {\n",
       "        text-align: right;\n",
       "    }\n",
       "</style>\n",
       "<table border=\"1\" class=\"dataframe\">\n",
       "  <thead>\n",
       "    <tr style=\"text-align: right;\">\n",
       "      <th></th>\n",
       "      <th>Title</th>\n",
       "      <th>30dVolume</th>\n",
       "      <th>30dSales</th>\n",
       "      <th>30dAvg Price</th>\n",
       "      <th>Floor Price</th>\n",
       "      <th>Items</th>\n",
       "      <th>Growth in %</th>\n",
       "    </tr>\n",
       "  </thead>\n",
       "  <tbody>\n",
       "    <tr>\n",
       "      <th>0</th>\n",
       "      <td>I'M AIKO</td>\n",
       "      <td>4411.81</td>\n",
       "      <td>1172</td>\n",
       "      <td>3.76</td>\n",
       "      <td>2.49</td>\n",
       "      <td>1087</td>\n",
       "      <td>151.00</td>\n",
       "    </tr>\n",
       "    <tr>\n",
       "      <th>1</th>\n",
       "      <td>Dapper Apes</td>\n",
       "      <td>901.12</td>\n",
       "      <td>260</td>\n",
       "      <td>3.47</td>\n",
       "      <td>2.95</td>\n",
       "      <td>20</td>\n",
       "      <td>117.63</td>\n",
       "    </tr>\n",
       "    <tr>\n",
       "      <th>2</th>\n",
       "      <td>OG Astro Babies</td>\n",
       "      <td>602.83</td>\n",
       "      <td>215</td>\n",
       "      <td>2.80</td>\n",
       "      <td>1.65</td>\n",
       "      <td>92</td>\n",
       "      <td>169.70</td>\n",
       "    </tr>\n",
       "    <tr>\n",
       "      <th>3</th>\n",
       "      <td>Message Party</td>\n",
       "      <td>600.15</td>\n",
       "      <td>190</td>\n",
       "      <td>3.16</td>\n",
       "      <td>2.20</td>\n",
       "      <td>7</td>\n",
       "      <td>143.64</td>\n",
       "    </tr>\n",
       "    <tr>\n",
       "      <th>4</th>\n",
       "      <td>Astro Baby Apes</td>\n",
       "      <td>587.06</td>\n",
       "      <td>411</td>\n",
       "      <td>1.43</td>\n",
       "      <td>0.70</td>\n",
       "      <td>178</td>\n",
       "      <td>204.29</td>\n",
       "    </tr>\n",
       "  </tbody>\n",
       "</table>\n",
       "</div>"
      ],
      "text/plain": [
       "             Title  30dVolume  30dSales  30dAvg Price  Floor Price  Items  \\\n",
       "0         I'M AIKO    4411.81      1172          3.76         2.49   1087   \n",
       "1      Dapper Apes     901.12       260          3.47         2.95     20   \n",
       "2  OG Astro Babies     602.83       215          2.80         1.65     92   \n",
       "3    Message Party     600.15       190          3.16         2.20      7   \n",
       "4  Astro Baby Apes     587.06       411          1.43         0.70    178   \n",
       "\n",
       "   Growth in %  \n",
       "0       151.00  \n",
       "1       117.63  \n",
       "2       169.70  \n",
       "3       143.64  \n",
       "4       204.29  "
      ]
     },
     "execution_count": 7,
     "metadata": {},
     "output_type": "execute_result"
    }
   ],
   "source": [
    "#solsea_sample = solsea.sample(15)\n",
    "solsea = solsea.dropna()\n",
    "solsea['Growth in %'] = solsea.apply(lambda row: row['30dAvg Price']  / row['Floor Price'] * 100 , axis=1).round(2)\n",
    "solsea.head()"
   ]
  },
  {
   "cell_type": "code",
   "execution_count": 8,
   "id": "5da44377",
   "metadata": {},
   "outputs": [
    {
     "data": {
      "text/html": [
       "<div>\n",
       "<style scoped>\n",
       "    .dataframe tbody tr th:only-of-type {\n",
       "        vertical-align: middle;\n",
       "    }\n",
       "\n",
       "    .dataframe tbody tr th {\n",
       "        vertical-align: top;\n",
       "    }\n",
       "\n",
       "    .dataframe thead th {\n",
       "        text-align: right;\n",
       "    }\n",
       "</style>\n",
       "<table border=\"1\" class=\"dataframe\">\n",
       "  <thead>\n",
       "    <tr style=\"text-align: right;\">\n",
       "      <th></th>\n",
       "      <th>Title</th>\n",
       "      <th>30dVolume</th>\n",
       "      <th>30dSales</th>\n",
       "      <th>30dAvg Price</th>\n",
       "      <th>Floor Price</th>\n",
       "      <th>Items</th>\n",
       "      <th>Growth in %</th>\n",
       "    </tr>\n",
       "  </thead>\n",
       "  <tbody>\n",
       "    <tr>\n",
       "      <th>0</th>\n",
       "      <td>Karafuru</td>\n",
       "      <td>35848.15</td>\n",
       "      <td>8784.0</td>\n",
       "      <td>4.08</td>\n",
       "      <td>2.30</td>\n",
       "      <td>5554.0</td>\n",
       "      <td>177.39</td>\n",
       "    </tr>\n",
       "    <tr>\n",
       "      <th>1</th>\n",
       "      <td>Azuki</td>\n",
       "      <td>34218.46</td>\n",
       "      <td>2476.0</td>\n",
       "      <td>13.82</td>\n",
       "      <td>9.99</td>\n",
       "      <td>10000.0</td>\n",
       "      <td>138.34</td>\n",
       "    </tr>\n",
       "    <tr>\n",
       "      <th>2</th>\n",
       "      <td>Bored Ape</td>\n",
       "      <td>31983.18</td>\n",
       "      <td>299.0</td>\n",
       "      <td>106.97</td>\n",
       "      <td>82.00</td>\n",
       "      <td>10000.0</td>\n",
       "      <td>130.45</td>\n",
       "    </tr>\n",
       "    <tr>\n",
       "      <th>4</th>\n",
       "      <td>Invisible Friends</td>\n",
       "      <td>29476.04</td>\n",
       "      <td>3334.0</td>\n",
       "      <td>8.84</td>\n",
       "      <td>8.30</td>\n",
       "      <td>5000.0</td>\n",
       "      <td>106.51</td>\n",
       "    </tr>\n",
       "    <tr>\n",
       "      <th>5</th>\n",
       "      <td>Clonex</td>\n",
       "      <td>28571.53</td>\n",
       "      <td>1514.0</td>\n",
       "      <td>18.87</td>\n",
       "      <td>12.00</td>\n",
       "      <td>18961.0</td>\n",
       "      <td>157.25</td>\n",
       "    </tr>\n",
       "  </tbody>\n",
       "</table>\n",
       "</div>"
      ],
      "text/plain": [
       "               Title  30dVolume  30dSales  30dAvg Price  Floor Price    Items  \\\n",
       "0           Karafuru   35848.15    8784.0          4.08         2.30   5554.0   \n",
       "1              Azuki   34218.46    2476.0         13.82         9.99  10000.0   \n",
       "2          Bored Ape   31983.18     299.0        106.97        82.00  10000.0   \n",
       "4  Invisible Friends   29476.04    3334.0          8.84         8.30   5000.0   \n",
       "5             Clonex   28571.53    1514.0         18.87        12.00  18961.0   \n",
       "\n",
       "   Growth in %  \n",
       "0       177.39  \n",
       "1       138.34  \n",
       "2       130.45  \n",
       "4       106.51  \n",
       "5       157.25  "
      ]
     },
     "execution_count": 8,
     "metadata": {},
     "output_type": "execute_result"
    }
   ],
   "source": [
    "#opensea_sample = opensea.sample(15)\n",
    "opensea = opensea.dropna()\n",
    "opensea['Growth in %'] = opensea.apply(lambda row: row['30dAvg Price']  / row['Floor Price'] * 100 , axis=1).round(2)\n",
    "opensea.head()"
   ]
  },
  {
   "cell_type": "code",
   "execution_count": 9,
   "id": "e6b9ac08",
   "metadata": {},
   "outputs": [
    {
     "name": "stdout",
     "output_type": "stream",
     "text": [
      "   Variable      N        Mean          SD         SE   95% Conf.    Interval\n",
      "0    Solsea   96.0  267.960625  708.742101  72.335688  124.356128  411.565122\n",
      "1   Opensea   29.0  209.833103  111.597170  20.723074  167.383810  252.282397\n",
      "2  combined  125.0  254.475040  623.103073  55.732033  144.165735  364.784345\n"
     ]
    }
   ],
   "source": [
    "import researchpy as rp\n",
    "#https://www.pythonfordatascience.org/independent-samples-t-test-python/\n",
    "\n",
    "summary, results = rp.ttest(group1= solsea['Growth in %'], group1_name= \"Solsea\",\n",
    "                         group2= opensea['Growth in %'], group2_name= \"Opensea\")\n",
    "print(summary)"
   ]
  },
  {
   "cell_type": "code",
   "execution_count": 11,
   "id": "0dbaefd6",
   "metadata": {},
   "outputs": [
    {
     "data": {
      "text/plain": [
       "Ttest_indResult(statistic=0.4388164694600873, pvalue=0.669217815908512)"
      ]
     },
     "execution_count": 11,
     "metadata": {},
     "output_type": "execute_result"
    }
   ],
   "source": [
    "from scipy.stats import ttest_ind\n",
    "#H0 - growth in SOL collections greater than ETH ; H1 - growth in SOL collections less than or equal ETH\n",
    "\n",
    "ttest_ind(solsea['Growth in %'], opensea['Growth in %'], alternative = \"less\")"
   ]
  },
  {
   "cell_type": "code",
   "execution_count": 12,
   "id": "0e09b8c7",
   "metadata": {},
   "outputs": [
    {
     "name": "stdout",
     "output_type": "stream",
     "text": [
      "Statistics=0.490, p=0.686\n",
      "fail to reject H0\n"
     ]
    }
   ],
   "source": [
    "alpha = 0.05\n",
    "sample = 20\n",
    "a = np.random.choice(solsea['Growth in %'], sample)\n",
    "b = np.random.choice(opensea['Growth in %'], sample)\n",
    "\n",
    "\n",
    "def compare_2_groups(a, b, alpha, sample):\n",
    "    stat, p = ttest_ind(a, b, alternative = \"less\")\n",
    "    print('Statistics=%.3f, p=%.3f' % (stat, p))\n",
    "    if p > alpha:\n",
    "        print('fail to reject H0')\n",
    "    else:\n",
    "        print('reject H0')\n",
    "\n",
    "compare_2_groups(a, b, alpha, sample)"
   ]
  },
  {
   "cell_type": "code",
   "execution_count": 71,
   "id": "d44db1de",
   "metadata": {},
   "outputs": [],
   "source": [
    "#H0 - growth in ETH collections greater than SOL ; H1 - growth in ETH collections less than or equal SOL\n",
    "#ttest_ind(opensea['Growth in %'], solsea['Growth in %'], alternative = \"less\")"
   ]
  },
  {
   "cell_type": "code",
   "execution_count": null,
   "id": "efe0c30a",
   "metadata": {},
   "outputs": [],
   "source": []
  }
 ],
 "metadata": {
  "kernelspec": {
   "display_name": "Python 3",
   "language": "python",
   "name": "python3"
  },
  "language_info": {
   "codemirror_mode": {
    "name": "ipython",
    "version": 3
   },
   "file_extension": ".py",
   "mimetype": "text/x-python",
   "name": "python",
   "nbconvert_exporter": "python",
   "pygments_lexer": "ipython3",
   "version": "3.8.8"
  }
 },
 "nbformat": 4,
 "nbformat_minor": 5
}
