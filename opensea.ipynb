{
 "cells": [
  {
   "cell_type": "code",
   "execution_count": 1,
   "id": "3359af67",
   "metadata": {},
   "outputs": [],
   "source": [
    "%matplotlib inline\n",
    "import requests\n",
    "import pandas as pd"
   ]
  },
  {
   "cell_type": "code",
   "execution_count": 2,
   "id": "7b6851b2",
   "metadata": {},
   "outputs": [],
   "source": [
    "def nfts_data(collections):\n",
    "    \n",
    "    \n",
    "    url = \"https://api.opensea.io/api/v1/collection/\" + str(collections) + \"/stats\"\n",
    "    \n",
    "    # Get information from API\n",
    "    api_data = requests.get(url).json()\n",
    "    \n",
    "    # Convert to dataframe and proper format\n",
    "    nfts_data = pd.DataFrame.from_dict(api_data).T\n",
    "    \n",
    "    # Choose only the relevant columns\n",
    "    nfts_data = nfts_data[[\"thirty_day_volume\", \"thirty_day_sales\", 'thirty_day_average_price',  \n",
    "                          \"floor_price\", \"count\"]]\n",
    "    \n",
    "    # Create index table to facilitate future joins\n",
    "    nfts_data[\"index\"] = range(len(nfts_data))\n",
    "    \n",
    "    return nfts_data"
   ]
  },
  {
   "cell_type": "code",
   "execution_count": 3,
   "id": "cb8c1b7b",
   "metadata": {},
   "outputs": [],
   "source": [
    "#Create dictionary with top30 observed collections\n",
    "\n",
    "collections = {\"Karafuru\": nfts_data(\"karafuru\"),\n",
    "        \"Azuki\": nfts_data(\"azuki\"),\n",
    "        \"Bored Ape\": nfts_data(\"boredapeyachtclub\"),\n",
    "        \"Crypto Punks\": nfts_data(\"cryptopunks\"),\n",
    "        \"Invisible Friends\": nfts_data(\"invisiblefriends\"),\n",
    "        \"Clonex\": nfts_data(\"clonex\"),\n",
    "        \"3Landers\": nfts_data(\"3landers\"),\n",
    "        \"Mutant Ape\": nfts_data(\"mutant-ape-yacht-club\"),\n",
    "        \"NFT Worlds\": nfts_data(\"nft-worlds\"),\n",
    "        \"mfers\": nfts_data(\"mfers\"),\n",
    "        \"Hape Prime\": nfts_data(\"hapeprime\"),\n",
    "        \"Cool Pets\": nfts_data(\"coolpetsnft\"),\n",
    "        \"RTFKT\": nfts_data(\"rtfkt-mnlth\"),\n",
    "        \"Tubby Cats\": nfts_data(\"tubby-cats\"),\n",
    "        \"Pixel Mongen\": nfts_data(\"pixelmongen1\"),\n",
    "        \"Sandbox\": nfts_data(\"sandbox\"),\n",
    "        \"Doodles\": nfts_data(\"doodles-official\"),\n",
    "        \"Tasty Bones\": nfts_data(\"tastybonesxyz\"),\n",
    "        \"Raid Party\": nfts_data(\"raidparty\"),\n",
    "        \"Edenhorde\": nfts_data(\"edenhorde-official\"),\n",
    "        \"Wonderpals\": nfts_data(\"wonderpals\"),\n",
    "        \"Cool Cats\": nfts_data(\"cool-cats-nft\"),\n",
    "        \"Cat Blox\": nfts_data(\"catbloxgenesis\"),\n",
    "        \"World Wide Web\": nfts_data(\"worldwidewebbland\"),\n",
    "        \"Super Normal\": nfts_data(\"supernormalbyzipcy\"),\n",
    "        \"Star Cat\": nfts_data(\"starcatchersnft\"),\n",
    "        \"The Other Side\": nfts_data(\"tos-theotherside\"),\n",
    "        \"Live of Asuna\": nfts_data(\"livesofasuna\"),\n",
    "        \"Star Cat\": nfts_data(\"starcatchersnft\"),\n",
    "        \"Hype Bear\": nfts_data(\"hype-bears-club-official-\"),\n",
    "        \"Decentraland\": nfts_data(\"decentraland\")} "
   ]
  },
  {
   "cell_type": "code",
   "execution_count": 4,
   "id": "0fbb3836",
   "metadata": {},
   "outputs": [],
   "source": [
    "data = pd.concat(list(collections.values()))\n",
    "#data"
   ]
  },
  {
   "cell_type": "code",
   "execution_count": 5,
   "id": "e36658db",
   "metadata": {},
   "outputs": [],
   "source": [
    "list(collections.keys())\n",
    "data['Title'] = list(collections.keys())"
   ]
  },
  {
   "cell_type": "code",
   "execution_count": 6,
   "id": "27a342b5",
   "metadata": {},
   "outputs": [],
   "source": [
    "data = data.reset_index(drop=True)"
   ]
  },
  {
   "cell_type": "code",
   "execution_count": 7,
   "id": "3353c49a",
   "metadata": {},
   "outputs": [],
   "source": [
    "data.drop('index', axis=1, inplace=True)"
   ]
  },
  {
   "cell_type": "code",
   "execution_count": 8,
   "id": "9abff2eb",
   "metadata": {},
   "outputs": [],
   "source": [
    "first_column = data.pop('Title')\n",
    "data.insert(0, 'Title', first_column)\n",
    "data = data.rename(columns=\n",
    "                   {\"thirty_day_volume\": \"30dVolume\", \n",
    "                     \"thirty_day_sales\": \"30dSales\", \n",
    "                     \"thirty_day_average_price\": \"30dAvg Price\",\n",
    "                     \"floor_price\": \"Floor Price\",\n",
    "                     \"count\": \"Items\"})"
   ]
  },
  {
   "cell_type": "code",
   "execution_count": 10,
   "id": "3e04ef03",
   "metadata": {},
   "outputs": [
    {
     "data": {
      "text/html": [
       "<div>\n",
       "<style scoped>\n",
       "    .dataframe tbody tr th:only-of-type {\n",
       "        vertical-align: middle;\n",
       "    }\n",
       "\n",
       "    .dataframe tbody tr th {\n",
       "        vertical-align: top;\n",
       "    }\n",
       "\n",
       "    .dataframe thead th {\n",
       "        text-align: right;\n",
       "    }\n",
       "</style>\n",
       "<table border=\"1\" class=\"dataframe\">\n",
       "  <thead>\n",
       "    <tr style=\"text-align: right;\">\n",
       "      <th></th>\n",
       "      <th>Title</th>\n",
       "      <th>30dVolume</th>\n",
       "      <th>30dSales</th>\n",
       "      <th>30dAvg Price</th>\n",
       "      <th>Floor Price</th>\n",
       "      <th>Items</th>\n",
       "    </tr>\n",
       "  </thead>\n",
       "  <tbody>\n",
       "    <tr>\n",
       "      <th>0</th>\n",
       "      <td>Karafuru</td>\n",
       "      <td>35848.2</td>\n",
       "      <td>8784.0</td>\n",
       "      <td>4.1</td>\n",
       "      <td>2.3</td>\n",
       "      <td>5554.0</td>\n",
       "    </tr>\n",
       "    <tr>\n",
       "      <th>1</th>\n",
       "      <td>Azuki</td>\n",
       "      <td>34326.2</td>\n",
       "      <td>2484.0</td>\n",
       "      <td>13.8</td>\n",
       "      <td>10.2</td>\n",
       "      <td>10000.0</td>\n",
       "    </tr>\n",
       "    <tr>\n",
       "      <th>2</th>\n",
       "      <td>Bored Ape</td>\n",
       "      <td>31983.2</td>\n",
       "      <td>299.0</td>\n",
       "      <td>107.0</td>\n",
       "      <td>82.0</td>\n",
       "      <td>10000.0</td>\n",
       "    </tr>\n",
       "    <tr>\n",
       "      <th>3</th>\n",
       "      <td>Crypto Punks</td>\n",
       "      <td>32058.0</td>\n",
       "      <td>319.0</td>\n",
       "      <td>100.5</td>\n",
       "      <td>NaN</td>\n",
       "      <td>9999.0</td>\n",
       "    </tr>\n",
       "    <tr>\n",
       "      <th>4</th>\n",
       "      <td>Invisible Friends</td>\n",
       "      <td>29455.6</td>\n",
       "      <td>3332.0</td>\n",
       "      <td>8.8</td>\n",
       "      <td>8.3</td>\n",
       "      <td>5000.0</td>\n",
       "    </tr>\n",
       "  </tbody>\n",
       "</table>\n",
       "</div>"
      ],
      "text/plain": [
       "               Title  30dVolume  30dSales  30dAvg Price  Floor Price    Items\n",
       "0           Karafuru    35848.2    8784.0           4.1          2.3   5554.0\n",
       "1              Azuki    34326.2    2484.0          13.8         10.2  10000.0\n",
       "2          Bored Ape    31983.2     299.0         107.0         82.0  10000.0\n",
       "3       Crypto Punks    32058.0     319.0         100.5          NaN   9999.0\n",
       "4  Invisible Friends    29455.6    3332.0           8.8          8.3   5000.0"
      ]
     },
     "execution_count": 10,
     "metadata": {},
     "output_type": "execute_result"
    }
   ],
   "source": [
    "data = data.round(1)\n",
    "\n",
    "data.head()"
   ]
  },
  {
   "cell_type": "code",
   "execution_count": null,
   "id": "ae1682a1",
   "metadata": {},
   "outputs": [],
   "source": []
  }
 ],
 "metadata": {
  "kernelspec": {
   "display_name": "Python 3",
   "language": "python",
   "name": "python3"
  },
  "language_info": {
   "codemirror_mode": {
    "name": "ipython",
    "version": 3
   },
   "file_extension": ".py",
   "mimetype": "text/x-python",
   "name": "python",
   "nbconvert_exporter": "python",
   "pygments_lexer": "ipython3",
   "version": "3.8.8"
  }
 },
 "nbformat": 4,
 "nbformat_minor": 5
}
