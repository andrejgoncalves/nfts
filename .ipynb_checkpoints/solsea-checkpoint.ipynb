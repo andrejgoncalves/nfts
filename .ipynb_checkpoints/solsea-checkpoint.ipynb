{
 "cells": [
  {
   "cell_type": "code",
   "execution_count": 1,
   "id": "a610ff9f",
   "metadata": {},
   "outputs": [],
   "source": [
    "from selenium import webdriver\n",
    "from selenium.webdriver.common.keys import Keys\n",
    "from selenium.webdriver.chrome.service import Service"
   ]
  },
  {
   "cell_type": "code",
   "execution_count": 2,
   "id": "5148c3e6",
   "metadata": {},
   "outputs": [],
   "source": [
    "# Create webdriver object\n",
    "\n",
    "chromedriver = \"/Users/jungle/Downloads/chromedriver\"\n",
    "\n",
    "option = webdriver.ChromeOptions()\n",
    "\n",
    "option.binary_location = '/Applications/Brave Browser.app/Contents/MacOS/Brave Browser'\n",
    "\n",
    "s = Service(chromedriver)\n",
    "\n",
    "driver = webdriver.Chrome(service=s, options=option)"
   ]
  },
  {
   "cell_type": "code",
   "execution_count": 3,
   "id": "cb0424df",
   "metadata": {},
   "outputs": [],
   "source": [
    "# Get the website\n",
    "\n",
    "driver.get(\"https://solsea.io/collection-statistics\")"
   ]
  },
  {
   "cell_type": "code",
   "execution_count": 11,
   "id": "1a1b736c",
   "metadata": {},
   "outputs": [
    {
     "name": "stderr",
     "output_type": "stream",
     "text": [
      "<ipython-input-11-282699562383>:1: DeprecationWarning: find_elements_by_xpath is deprecated. Please use find_elements(by=By.XPATH, value=xpath) instead\n",
      "  headers = driver.find_elements_by_xpath('//th[@class=\"table-header__StatisticsTable_2uROi \"]')\n",
      "<ipython-input-11-282699562383>:2: DeprecationWarning: find_elements_by_xpath is deprecated. Please use find_elements(by=By.XPATH, value=xpath) instead\n",
      "  nfts = driver.find_elements_by_xpath('//td[@class=\"table-data__StatisticsRow_1rG9E undefined\"]')\n"
     ]
    }
   ],
   "source": [
    "headers = driver.find_elements_by_xpath('//th[@class=\"table-header__StatisticsTable_2uROi \"]')\n",
    "nfts = driver.find_elements_by_xpath('//td[@class=\"table-data__StatisticsRow_1rG9E undefined\"]')"
   ]
  },
  {
   "cell_type": "code",
   "execution_count": 12,
   "id": "b5746567",
   "metadata": {},
   "outputs": [],
   "source": [
    "headers_list = []\n",
    "for header in range(len(headers)):\n",
    "    headers_list.append(headers[header].text)\n",
    "\n",
    "nfts_list = []\n",
    "for nft in range(len(nfts)):\n",
    "    nfts_list.append(nfts[nft].text)"
   ]
  },
  {
   "cell_type": "code",
   "execution_count": 13,
   "id": "29819bda",
   "metadata": {},
   "outputs": [
    {
     "data": {
      "text/plain": [
       "['#   ',\n",
       " '',\n",
       " 'Title   ',\n",
       " '30dVolume',\n",
       " '30dSales   ',\n",
       " '30dAvg Price   ',\n",
       " 'Floor   ',\n",
       " 'Items   ']"
      ]
     },
     "execution_count": 13,
     "metadata": {},
     "output_type": "execute_result"
    }
   ],
   "source": [
    "headers_list"
   ]
  },
  {
   "cell_type": "code",
   "execution_count": 14,
   "id": "7b3a7a9b",
   "metadata": {},
   "outputs": [],
   "source": [
    "df = {element:[] for element in headers_list} \n",
    "counter = 0 \n",
    "\n",
    "for element in nfts_list:\n",
    "    if counter == 8: \n",
    "        counter = 0\n",
    "\n",
    "    if counter == 0: \n",
    "        df[headers_list[0]].append(element)\n",
    "    elif counter == 1: \n",
    "        df[headers_list[1]].append(element)\n",
    "    elif counter == 2: \n",
    "        df[headers_list[2]].append(element)  \n",
    "    elif counter == 3:\n",
    "        df[headers_list[3]].append(element)\n",
    "    elif counter == 4: \n",
    "        df[headers_list[4]].append(element)\n",
    "    elif counter == 5: \n",
    "        df[headers_list[5]].append(element)\n",
    "    elif counter == 6: \n",
    "        df[headers_list[6]].append(element)\n",
    "    else: \n",
    "        df[headers_list[7]].append(element)\n",
    "   \n",
    "    counter += 1 "
   ]
  },
  {
   "cell_type": "code",
   "execution_count": 15,
   "id": "f94472be",
   "metadata": {},
   "outputs": [],
   "source": [
    "import pandas as pd\n",
    "import numpy as np\n",
    "data = pd.DataFrame(df)"
   ]
  },
  {
   "cell_type": "code",
   "execution_count": 16,
   "id": "1c95860b",
   "metadata": {},
   "outputs": [],
   "source": [
    "data.set_index('Title   ')\n",
    "data = data.drop(['#   '], axis=1)\n",
    "data = data.rename(columns=\n",
    "                   {\"Title   \": \"Title\", \n",
    "                   \"30dSales   \": \"30dSales\",\n",
    "                    \"30dAvg Price   \": \"30dAvg Price\",\n",
    "                    \"Floor   \": \"Floor Price\",\n",
    "                   \"Items   \": \"Items\"})"
   ]
  },
  {
   "cell_type": "code",
   "execution_count": 18,
   "id": "6f75eb46",
   "metadata": {},
   "outputs": [],
   "source": [
    "data['30dVolume'] = data['30dVolume'].apply(\n",
    "    lambda x: x.replace(' Ⓞ', ''))\n",
    "data['30dAvg Price'] = data['30dAvg Price'].apply(\n",
    "    lambda x: x.replace(' Ⓞ', ''))\n",
    "data['Floor Price'] = data['Floor Price'].apply(\n",
    "    lambda x: x.replace(' Ⓞ', '')) "
   ]
  },
  {
   "cell_type": "code",
   "execution_count": 19,
   "id": "f7aca5c5",
   "metadata": {},
   "outputs": [
    {
     "data": {
      "text/html": [
       "<div>\n",
       "<style scoped>\n",
       "    .dataframe tbody tr th:only-of-type {\n",
       "        vertical-align: middle;\n",
       "    }\n",
       "\n",
       "    .dataframe tbody tr th {\n",
       "        vertical-align: top;\n",
       "    }\n",
       "\n",
       "    .dataframe thead th {\n",
       "        text-align: right;\n",
       "    }\n",
       "</style>\n",
       "<table border=\"1\" class=\"dataframe\">\n",
       "  <thead>\n",
       "    <tr style=\"text-align: right;\">\n",
       "      <th></th>\n",
       "      <th></th>\n",
       "      <th>Title</th>\n",
       "      <th>30dVolume</th>\n",
       "      <th>30dSales</th>\n",
       "      <th>30dAvg Price</th>\n",
       "      <th>Floor Price</th>\n",
       "      <th>Items</th>\n",
       "    </tr>\n",
       "  </thead>\n",
       "  <tbody>\n",
       "    <tr>\n",
       "      <th>0</th>\n",
       "      <td></td>\n",
       "      <td>I'M AIKO</td>\n",
       "      <td>4411.81</td>\n",
       "      <td>1172</td>\n",
       "      <td>3.76</td>\n",
       "      <td>2.49</td>\n",
       "      <td>1087</td>\n",
       "    </tr>\n",
       "    <tr>\n",
       "      <th>1</th>\n",
       "      <td></td>\n",
       "      <td>Dapper Apes</td>\n",
       "      <td>901.12</td>\n",
       "      <td>260</td>\n",
       "      <td>3.47</td>\n",
       "      <td>2.95</td>\n",
       "      <td>20</td>\n",
       "    </tr>\n",
       "    <tr>\n",
       "      <th>2</th>\n",
       "      <td></td>\n",
       "      <td>OG Astro Babies</td>\n",
       "      <td>602.83</td>\n",
       "      <td>215</td>\n",
       "      <td>2.80</td>\n",
       "      <td>1.65</td>\n",
       "      <td>92</td>\n",
       "    </tr>\n",
       "    <tr>\n",
       "      <th>3</th>\n",
       "      <td></td>\n",
       "      <td>Message Party</td>\n",
       "      <td>600.15</td>\n",
       "      <td>190</td>\n",
       "      <td>3.16</td>\n",
       "      <td>2.20</td>\n",
       "      <td>7</td>\n",
       "    </tr>\n",
       "    <tr>\n",
       "      <th>4</th>\n",
       "      <td></td>\n",
       "      <td>Astro Baby Apes</td>\n",
       "      <td>587.06</td>\n",
       "      <td>411</td>\n",
       "      <td>1.43</td>\n",
       "      <td>0.70</td>\n",
       "      <td>178</td>\n",
       "    </tr>\n",
       "  </tbody>\n",
       "</table>\n",
       "</div>"
      ],
      "text/plain": [
       "               Title 30dVolume 30dSales 30dAvg Price Floor Price Items\n",
       "0           I'M AIKO   4411.81     1172         3.76        2.49  1087\n",
       "1        Dapper Apes    901.12      260         3.47        2.95    20\n",
       "2    OG Astro Babies    602.83      215         2.80        1.65    92\n",
       "3      Message Party    600.15      190         3.16        2.20     7\n",
       "4    Astro Baby Apes    587.06      411         1.43        0.70   178"
      ]
     },
     "execution_count": 19,
     "metadata": {},
     "output_type": "execute_result"
    }
   ],
   "source": [
    "data = data.round(1)\n",
    "\n",
    "data.head()"
   ]
  },
  {
   "cell_type": "code",
   "execution_count": 20,
   "id": "5081e1b1",
   "metadata": {},
   "outputs": [],
   "source": [
    "data.to_csv('solsea.csv', index = False)"
   ]
  },
  {
   "cell_type": "code",
   "execution_count": null,
   "id": "12a4a9f9",
   "metadata": {},
   "outputs": [],
   "source": []
  }
 ],
 "metadata": {
  "kernelspec": {
   "display_name": "Python 3",
   "language": "python",
   "name": "python3"
  },
  "language_info": {
   "codemirror_mode": {
    "name": "ipython",
    "version": 3
   },
   "file_extension": ".py",
   "mimetype": "text/x-python",
   "name": "python",
   "nbconvert_exporter": "python",
   "pygments_lexer": "ipython3",
   "version": "3.8.8"
  }
 },
 "nbformat": 4,
 "nbformat_minor": 5
}
